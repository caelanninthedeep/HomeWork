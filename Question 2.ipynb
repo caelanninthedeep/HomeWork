{
 "cells": [
  {
   "cell_type": "code",
   "execution_count": null,
   "metadata": {},
   "outputs": [],
   "source": [
    "x = float(input(\"x:\"))\n",
    "y = float(input(\"y:\"))\n",
    "z = float(input(\"z:\"))\n",
    "# 使用 float() 是为了确保输入的 x, y, z 被转换为浮点数类型。\n",
    "# 这是因为在 Python 中，input() 函数总是会把用户输入的内容当作字符串（str）处理。\n",
    "# 无论用户输入的是数字还是其他字符，input() 都会返回字符串。\n",
    "\n",
    "numbers = [x, y, z]\n",
    "sorted_numbers = sorted(numbers)\n",
    "# sorted函数进行排序\n",
    "# sorted(iterable, key=None, reverse=False)\n",
    "# iterable：可以是任何可迭代对象，如列表、元组、字符串、字典等。\n",
    "# key：可选参数。用来指定排序规则的函数，默认值为 None，表示直接比较元素的值。如果传入一个函数，则该函数会应用于可迭代对象的每个元素，并以该函数的返回值进行排序。\n",
    "# reverse：可选参数。布尔值，默认值为 False，表示升序排序。如果设置为 True，则会按降序排序。\n",
    "\n",
    "print(\"从小到大的顺序是:\", sorted_numbers)"
   ]
  },
  {
   "cell_type": "code",
   "execution_count": 7,
   "metadata": {},
   "outputs": [
    {
     "name": "stdout",
     "output_type": "stream",
     "text": [
      "从小到大的顺序是: [1.2, 3.5, 4.8]\n"
     ]
    }
   ],
   "source": [
    "x = 3.5\n",
    "y = 1.2\n",
    "z = 4.8\n",
    "numbers = [x, y, z]\n",
    "sorted_numbers = sorted(numbers)\n",
    "print(\"从小到大的顺序是:\", sorted_numbers)"
   ]
  }
 ],
 "metadata": {
  "kernelspec": {
   "display_name": "Python 3",
   "language": "python",
   "name": "python3"
  },
  "language_info": {
   "codemirror_mode": {
    "name": "ipython",
    "version": 3
   },
   "file_extension": ".py",
   "mimetype": "text/x-python",
   "name": "python",
   "nbconvert_exporter": "python",
   "pygments_lexer": "ipython3",
   "version": "3.12.6"
  }
 },
 "nbformat": 4,
 "nbformat_minor": 2
}
