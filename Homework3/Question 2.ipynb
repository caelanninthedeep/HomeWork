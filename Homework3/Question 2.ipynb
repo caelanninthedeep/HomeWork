{
 "cells": [
  {
   "cell_type": "markdown",
   "metadata": {},
   "source": [
    "用Python实现插入排序该算法，不允许直接调用插入排序函数，需要手动实现其逻辑过程。"
   ]
  },
  {
   "cell_type": "code",
   "execution_count": 1,
   "metadata": {},
   "outputs": [
    {
     "name": "stdout",
     "output_type": "stream",
     "text": [
      "Sorted array: [5, 6, 11, 12, 13]\n"
     ]
    }
   ],
   "source": [
    "def insertion_sort(arr):\n",
    "    # 从第二个元素开始，认为第一个元素已经是排序好的部分\n",
    "    for i in range(1, len(arr)):\n",
    "        key = arr[i]  # 取出当前要插入的元素\n",
    "        j = i - 1  # 从当前元素的前一个元素开始比较\n",
    "        \n",
    "        # 下面这个 while 循环做的工作就是找到 key 应该插入的位置\n",
    "        while j >= 0 and key < arr[j]:\n",
    "            arr[j + 1] = arr[j]  # 将 arr[j] 元素向右移动\n",
    "            j -= 1  # 指针向前移动一位\n",
    "        \n",
    "        # 当 j 指向的位置停止时，说明已经找到要插入的位置\n",
    "        arr[j + 1] = key  # 将 key 插入合适的位置\n",
    "    \n",
    "    return arr  # 返回排序后的数组\n",
    "\n",
    "arr = [12, 11, 13, 5, 6]\n",
    "sorted_arr = insertion_sort(arr)\n",
    "print(\"Sorted array:\", sorted_arr)"
   ]
  }
 ],
 "metadata": {
  "kernelspec": {
   "display_name": "Python 3",
   "language": "python",
   "name": "python3"
  },
  "language_info": {
   "codemirror_mode": {
    "name": "ipython",
    "version": 3
   },
   "file_extension": ".py",
   "mimetype": "text/x-python",
   "name": "python",
   "nbconvert_exporter": "python",
   "pygments_lexer": "ipython3",
   "version": "3.12.6"
  }
 },
 "nbformat": 4,
 "nbformat_minor": 2
}
