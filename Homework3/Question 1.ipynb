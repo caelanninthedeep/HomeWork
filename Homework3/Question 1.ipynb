{
 "cells": [
  {
   "cell_type": "markdown",
   "metadata": {},
   "source": [
    "编写 Python程序,判断输入a是否为质数"
   ]
  },
  {
   "cell_type": "code",
   "execution_count": null,
   "metadata": {},
   "outputs": [],
   "source": [
    "def is_prime(a):\n",
    "    # 如果 a 小于 2, 则不是质数\n",
    "    if a < 2:\n",
    "        return False\n",
    "    # 检查 2 到 a 的平方根之间的数字是否能整除 a\n",
    "    for i in range(2, int(a ** 0.5) + 1):   #range() 的上限是开区间\n",
    "        if a % i == 0:\n",
    "            return False\n",
    "    return True\n",
    "\n",
    "a = int(input(\"\"))\n",
    "\n",
    "if is_prime(a):\n",
    "    print(f\"{a} 是质数\")\n",
    "else:\n",
    "    print(f\"{a} 不是质数\")\n"
   ]
  }
 ],
 "metadata": {
  "language_info": {
   "name": "python"
  }
 },
 "nbformat": 4,
 "nbformat_minor": 2
}
