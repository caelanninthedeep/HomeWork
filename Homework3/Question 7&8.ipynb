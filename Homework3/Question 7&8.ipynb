{
 "cells": [
  {
   "cell_type": "markdown",
   "metadata": {},
   "source": [
    "Homework/data文件夹下的stuGrade.csv文件中包含5位同学的学号、语文成绩、数学成绩和英语成绩，请先用记事本打开该文件，查看文件内容，然后编写Python程序，读取该文件，并计算出各科的平均成绩（保留2位小数）。"
   ]
  },
  {
   "cell_type": "code",
   "execution_count": 1,
   "metadata": {},
   "outputs": [
    {
     "name": "stdout",
     "output_type": "stream",
     "text": [
      "各科的平均成绩：\n",
      "chinese    82.60\n",
      "math       81.00\n",
      "english    81.80\n",
      "dtype: object\n"
     ]
    }
   ],
   "source": [
    "import pandas as pd\n",
    "\n",
    "# 读取CSV文件\n",
    "file_path = '/Users/calanthe/Desktop/github作业/Homework3/stuGrade.csv'\n",
    "df = pd.read_csv(file_path)\n",
    "\n",
    "# 计算各科平均成绩（保留2位小数）\n",
    "mean_scores = df[['chinese', 'math', 'english']].mean().round(2)\n",
    "\n",
    "mean_scores = mean_scores.apply(lambda x: format(x, '.2f'))\n",
    "\n",
    "# 输出结果\n",
    "print(\"各科的平均成绩：\")\n",
    "print(mean_scores)\n"
   ]
  },
  {
   "cell_type": "code",
   "execution_count": 2,
   "metadata": {},
   "outputs": [
    {
     "name": "stdout",
     "output_type": "stream",
     "text": [
      "文件已成功写入 my.txt\n"
     ]
    }
   ],
   "source": [
    "import pandas as pd\n",
    "import time\n",
    "from datetime import datetime\n",
    "\n",
    "# 读取CSV文件\n",
    "file_path = '/Users/calanthe/Desktop/github作业/Homework3/stuGrade.csv'\n",
    "df = pd.read_csv(file_path)\n",
    "\n",
    "# 计算各科平均成绩（保留2位小数）\n",
    "mean_scores = df[['chinese', 'math', 'english']].mean().round(2)\n",
    "\n",
    "# 获取当前系统时间\n",
    "current_time = datetime.now().strftime('%Y-%m-%d %H:%M:%S')\n",
    "\n",
    "# 休眠两秒\n",
    "time.sleep(2)\n",
    "\n",
    "# 获取两秒后的系统时间\n",
    "current_time_after_sleep = datetime.now().strftime('%Y-%m-%d %H:%M:%S')\n",
    "\n",
    "# 学号和姓名\n",
    "student_id = \"10235501449\"\n",
    "name = \"叶雨菡\"\n",
    "\n",
    "# 写入my.txt文件\n",
    "with open('my.txt', 'w') as file:\n",
    "    # 第1行：学号和姓名\n",
    "    file.write(f\"{student_id}, {name}\\n\")\n",
    "    \n",
    "    # 第2行：3门课程的平均成绩，英文逗号间隔\n",
    "    file.write(f\"{mean_scores['chinese']:.2f}, {mean_scores['math']:.2f}, {mean_scores['english']:.2f}\\n\")\n",
    "    \n",
    "    # 第3行：当前系统时间\n",
    "    file.write(f\"{current_time}\\n\")\n",
    "    \n",
    "    # 第4行：两秒后的系统时间\n",
    "    file.write(f\"{current_time_after_sleep}\\n\")\n",
    "\n",
    "print(\"文件已成功写入 my.txt\")\n"
   ]
  }
 ],
 "metadata": {
  "kernelspec": {
   "display_name": "Python 3",
   "language": "python",
   "name": "python3"
  },
  "language_info": {
   "codemirror_mode": {
    "name": "ipython",
    "version": 3
   },
   "file_extension": ".py",
   "mimetype": "text/x-python",
   "name": "python",
   "nbconvert_exporter": "python",
   "pygments_lexer": "ipython3",
   "version": "3.12.6"
  }
 },
 "nbformat": 4,
 "nbformat_minor": 2
}
