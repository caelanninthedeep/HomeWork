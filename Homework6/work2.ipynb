{
 "cells": [
  {
   "cell_type": "markdown",
   "metadata": {},
   "source": [
    "读取data中2022文件夹下的activity_2020文件，分析美国排名前十的项目的平均增长率。"
   ]
  },
  {
   "cell_type": "code",
   "execution_count": 8,
   "metadata": {},
   "outputs": [
    {
     "name": "stdout",
     "output_type": "stream",
     "text": [
      "                                     repo  monthly_average_growth_rate  \\\n",
      "0                MicrosoftDocs/azure-docs                    -1.792781   \n",
      "1                           NixOS/nixpkgs                     0.029453   \n",
      "2                          dotnet/runtime                    -2.284829   \n",
      "3                          elastic/kibana                    -0.365071   \n",
      "4  firstcontributions/first-contributions                    14.082374   \n",
      "5                         flutter/flutter                    -1.240426   \n",
      "6                     home-assistant/core                     0.845268   \n",
      "7                        microsoft/vscode                     2.290469   \n",
      "8                         pytorch/pytorch                     1.316038   \n",
      "9                          rust-lang/rust                    -0.377805   \n",
      "\n",
      "   annual_growth_rate  \n",
      "0          -21.772654  \n",
      "1           -3.128928  \n",
      "2          -26.047238  \n",
      "3          -13.141349  \n",
      "4            4.494430  \n",
      "5          -17.822706  \n",
      "6            3.359358  \n",
      "7           22.892857  \n",
      "8           12.827315  \n",
      "9           -9.098095  \n"
     ]
    }
   ],
   "source": [
    "import pandas as pd\n",
    "\n",
    "file_path = '/Users/calanthe/Desktop/github作业/Homework6/activity_2022.csv'\n",
    "data = pd.read_csv(file_path)\n",
    "\n",
    "monthly_columns = [\n",
    "    '20221_value', '20222_value', '20223_value', '20224_value', \n",
    "    '20225_value', '20226_value', '20227_value', '20228_value', \n",
    "    '20229_value', '202210_value', '202211_value', '202212_value'\n",
    "]\n",
    "\n",
    "for i in range(1, len(monthly_columns)):\n",
    "    data[f'growth_rate_{i}'] = (data[monthly_columns[i]] - data[monthly_columns[i-1]]) / data[monthly_columns[i-1]] * 100\n",
    "\n",
    "# 计算每个项目的逐月平均增长率\n",
    "growth_rate_columns = [f'growth_rate_{i}' for i in range(1, len(monthly_columns))]\n",
    "data['monthly_average_growth_rate'] = data[growth_rate_columns].mean(axis=1)\n",
    "\n",
    "# 计算每个项目的年度增长率（年末与年初的变化）\n",
    "data['annual_growth_rate'] = (data['202212_value'] - data['20221_value']) / data['20221_value'] * 100\n",
    "\n",
    "print(data[['repo', 'monthly_average_growth_rate', 'annual_growth_rate']])\n"
   ]
  }
 ],
 "metadata": {
  "kernelspec": {
   "display_name": "base",
   "language": "python",
   "name": "python3"
  },
  "language_info": {
   "codemirror_mode": {
    "name": "ipython",
    "version": 3
   },
   "file_extension": ".py",
   "mimetype": "text/x-python",
   "name": "python",
   "nbconvert_exporter": "python",
   "pygments_lexer": "ipython3",
   "version": "3.11.7"
  }
 },
 "nbformat": 4,
 "nbformat_minor": 2
}
