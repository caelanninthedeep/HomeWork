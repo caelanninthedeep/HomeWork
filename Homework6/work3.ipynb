{
 "cells": [
  {
   "cell_type": "markdown",
   "metadata": {},
   "source": [
    "data/2022/china_2022.csv表示中国开源领域排名前十的企业。data/2022/global_2022.csv表示开源领域全球前十的的企业，请通过各种统计指标比较两者的各种数据差异。"
   ]
  },
  {
   "cell_type": "code",
   "execution_count": 7,
   "metadata": {},
   "outputs": [
    {
     "name": "stdout",
     "output_type": "stream",
     "text": [
      "中国和全球前十企业的均值和最大值对比：\n",
      "                    中国_均值       全球_均值     中国_最大值      全球_最大值\n",
      "issue_comment   61205.500  341409.400  167814.00  1437317.00\n",
      "open_issue       9169.200   43300.200   22397.00   189185.00\n",
      "open_pull       16912.700   83423.000   35266.00   309685.00\n",
      "review_comment  19857.500  120392.100   60402.00   456166.00\n",
      "merged_pull     13764.100   62472.000   26732.00   257123.00\n",
      "value           40269.534  215855.491  103368.49   824848.67\n"
     ]
    }
   ],
   "source": [
    "import pandas as pd\n",
    "\n",
    "# 读取数据\n",
    "china_file_path = '/Users/calanthe/Desktop/github作业/Homework6/china_2022.csv'\n",
    "global_file_path = '/Users/calanthe/Desktop/github作业/Homework6/global_2022.csv'\n",
    "\n",
    "china_data = pd.read_csv(china_file_path)\n",
    "global_data = pd.read_csv(global_file_path)\n",
    "\n",
    "# 选择要比较的指标\n",
    "columns_to_analyze = ['issue_comment', 'open_issue', 'open_pull', 'review_comment', 'merged_pull', 'value']\n",
    "\n",
    "# 计算中国和全球企业的统计信息\n",
    "china_stats = china_data[columns_to_analyze].describe()\n",
    "global_stats = global_data[columns_to_analyze].describe()\n",
    "\n",
    "# 提取各项指标的均值和最大值，并将它们格式化为DataFrame\n",
    "comparison_df = pd.DataFrame({\n",
    "    '中国_均值': china_stats.loc['mean'],\n",
    "    '全球_均值': global_stats.loc['mean'],\n",
    "    '中国_最大值': china_stats.loc['max'],\n",
    "    '全球_最大值': global_stats.loc['max']\n",
    "})\n",
    "\n",
    "# 格式化输出\n",
    "print(\"中国和全球前十企业的均值和最大值对比：\")\n",
    "print(comparison_df)\n"
   ]
  },
  {
   "cell_type": "markdown",
   "metadata": {},
   "source": [
    "\n",
    "issue_comment：全球企业在开源领域的评论量远高于中国企业，最大值和平均值均差距显著。\n",
    "\n",
    "open_issue、open_pull：全球企业的开放问题和合并请求的数量也大大领先于中国企业。\n",
    "\n",
    "review_comment、merged_pull：全球企业的审阅和完成的合并请求数量明显较高。\n",
    "\n",
    "value：全球企业的综合评分比中国企业高出数倍，这可能反映了全球企业在开源领域的资源投入和社区参与度更高。\n",
    "\n",
    "这些差异显示全球前十的企业在开源活动的广度和深度上都明显领先于中国前十企业。"
   ]
  }
 ],
 "metadata": {
  "kernelspec": {
   "display_name": "base",
   "language": "python",
   "name": "python3"
  },
  "language_info": {
   "codemirror_mode": {
    "name": "ipython",
    "version": 3
   },
   "file_extension": ".py",
   "mimetype": "text/x-python",
   "name": "python",
   "nbconvert_exporter": "python",
   "pygments_lexer": "ipython3",
   "version": "3.11.7"
  }
 },
 "nbformat": 4,
 "nbformat_minor": 2
}
