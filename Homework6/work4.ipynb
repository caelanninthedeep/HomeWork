{
 "cells": [
  {
   "cell_type": "markdown",
   "metadata": {},
   "source": [
    "根据 OpenLeaderboard 上对前 10000 个活跃的项目统计，工具组件型项目占比 50 %，系统应用型占比 25 %，而内容资源型（非软件类）项目占比 25 %，成三分天下的态势。\n",
    "\n",
    "非软件类项目中，带有 HTML/Markdown 标签的项目占 85 %，而软件类项目中带 HTML/Markdown标签的项目占比则为 10 %（注：HTML/Markdown 一般可用来书写文档内容）\n",
    "\n",
    "工具组件型项目中，JavaScript 语言的项目占比 35 %，而非工具组件型项目中， JavaScript 语言的项目占比则为 10 %（注：JavaScript 是一种脚本编程语言，可以在网页上实现复杂的功能）\n",
    "\n",
    "已知一个项目带有 HTML/Markdown 标签，那么该项目是非软件型项目的概率是多少？"
   ]
  },
  {
   "cell_type": "code",
   "execution_count": 2,
   "metadata": {},
   "outputs": [
    {
     "name": "stdout",
     "output_type": "stream",
     "text": [
      "已知一个项目带有 HTML/Markdown 标签，该项目是非软件类项目的概率为： 0.7391304347826088\n"
     ]
    }
   ],
   "source": [
    "# 已知条件\n",
    "total_projects = 10000\n",
    "tool_component_projects = 5000   # 工具组件型项目\n",
    "system_application_projects = 2500   # 系统应用型项目\n",
    "non_software_projects = 2500         # 内容资源型（非软件类）项目\n",
    "\n",
    "# 各类别中带有 HTML/Markdown 标签的比例\n",
    "html_markdown_non_software_ratio = 0.85   # 非软件类项目\n",
    "html_markdown_software_ratio = 0.10       # 软件类项目（工具组件型和系统应用型）\n",
    "\n",
    "# 计算概率\n",
    "P_A = non_software_projects / total_projects                        # 非软件类项目的比例\n",
    "P_B_given_A = html_markdown_non_software_ratio                      # 非软件类项目中带有 HTML/Markdown 标签的概率\n",
    "P_B = ((non_software_projects * html_markdown_non_software_ratio) + \n",
    "       ((tool_component_projects + system_application_projects) * html_markdown_software_ratio)) / total_projects  # 带有 HTML/Markdown 标签的项目的总体比例\n",
    "\n",
    "# 使用贝叶斯公式计算 P(A|B)\n",
    "P_A_given_B = (P_B_given_A * P_A) / P_B\n",
    "\n",
    "# 输出结果\n",
    "print(\"已知一个项目带有 HTML/Markdown 标签，该项目是非软件类项目的概率为：\", P_A_given_B)\n"
   ]
  },
  {
   "cell_type": "markdown",
   "metadata": {},
   "source": [
    "接上文，已知一个项目是由 JavaScript 语言编写的，那么它是工具组件型项目的概率是多少？"
   ]
  },
  {
   "cell_type": "code",
   "execution_count": 3,
   "metadata": {},
   "outputs": [
    {
     "name": "stdout",
     "output_type": "stream",
     "text": [
      "已知一个项目是由 JavaScript 语言编写的，它是工具组件型项目的概率为： 0.7777777777777777\n"
     ]
    }
   ],
   "source": [
    "# 已知条件\n",
    "total_projects = 10000\n",
    "tool_component_projects = 5000\n",
    "non_tool_component_projects = 5000\n",
    "\n",
    "# 各类别中使用 JavaScript 的比例\n",
    "javascript_tool_ratio = 0.35     # 工具组件型项目中 JavaScript 占比\n",
    "javascript_non_tool_ratio = 0.10 # 非工具组件型项目中 JavaScript 占比\n",
    "\n",
    "# 计算概率\n",
    "P_A = tool_component_projects / total_projects              # 工具组件型项目的比例\n",
    "P_B_given_A = javascript_tool_ratio                         # 工具组件型项目中 JavaScript 项目的比例\n",
    "P_B = ((tool_component_projects * javascript_tool_ratio) + \n",
    "       (non_tool_component_projects * javascript_non_tool_ratio)) / total_projects  # JavaScript 项目的总体比例\n",
    "\n",
    "# 使用贝叶斯公式计算 P(A|B)\n",
    "P_A_given_B = (P_B_given_A * P_A) / P_B\n",
    "\n",
    "# 输出结果\n",
    "print(\"已知一个项目是由 JavaScript 语言编写的，它是工具组件型项目的概率为：\", P_A_given_B)\n"
   ]
  }
 ],
 "metadata": {
  "kernelspec": {
   "display_name": "base",
   "language": "python",
   "name": "python3"
  },
  "language_info": {
   "codemirror_mode": {
    "name": "ipython",
    "version": 3
   },
   "file_extension": ".py",
   "mimetype": "text/x-python",
   "name": "python",
   "nbconvert_exporter": "python",
   "pygments_lexer": "ipython3",
   "version": "3.11.7"
  }
 },
 "nbformat": 4,
 "nbformat_minor": 2
}
