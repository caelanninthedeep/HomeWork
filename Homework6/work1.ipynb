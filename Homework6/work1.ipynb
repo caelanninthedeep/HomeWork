{
 "cells": [
  {
   "cell_type": "markdown",
   "metadata": {},
   "source": [
    "读取data中2023_6文件夹中的openrank数据集，分析美国排名前一百的项目的的value的最大值、最小值、均值以及中位数。"
   ]
  },
  {
   "cell_type": "code",
   "execution_count": 1,
   "metadata": {},
   "outputs": [
    {
     "name": "stdout",
     "output_type": "stream",
     "text": [
      "最大值: 1394.45\n",
      "最小值: 200.68\n",
      "均值: 346.9679\n",
      "中位数: 273.66999999999996\n"
     ]
    }
   ],
   "source": [
    "import pandas as pd\n",
    "\n",
    "file_path = '/Users/calanthe/Desktop/github作业/Homework6/open_rank_20236.csv'\n",
    "data = pd.read_csv(file_path)\n",
    "\n",
    "value_max = data['value'].max()\n",
    "value_min = data['value'].min()\n",
    "value_mean = data['value'].mean()\n",
    "value_median = data['value'].median()\n",
    "\n",
    "print(f\"最大值: {value_max}\")\n",
    "print(f\"最小值: {value_min}\")\n",
    "print(f\"均值: {value_mean}\")\n",
    "print(f\"中位数: {value_median}\")\n"
   ]
  }
 ],
 "metadata": {
  "kernelspec": {
   "display_name": "Python 3",
   "language": "python",
   "name": "python3"
  },
  "language_info": {
   "codemirror_mode": {
    "name": "ipython",
    "version": 3
   },
   "file_extension": ".py",
   "mimetype": "text/x-python",
   "name": "python",
   "nbconvert_exporter": "python",
   "pygments_lexer": "ipython3",
   "version": "3.11.7"
  }
 },
 "nbformat": 4,
 "nbformat_minor": 2
}
