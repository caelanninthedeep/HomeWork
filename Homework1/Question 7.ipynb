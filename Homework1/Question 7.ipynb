{
 "cells": [
  {
   "cell_type": "code",
   "execution_count": 2,
   "metadata": {},
   "outputs": [
    {
     "name": "stdout",
     "output_type": "stream",
     "text": [
      "abccccda 中包含两个或两个以上连续相同字符组成的字符串。\n"
     ]
    }
   ],
   "source": [
    "def repetition_chars(S):\n",
    "    # 遍历字符串，检查是否有连续的相同字符\n",
    "    for i in range(1, len(S)):\n",
    "        # 判断当前字符是否与前一个字符相同\n",
    "        if S[i] == S[i - 1]:\n",
    "            count = 1\n",
    "            # 继续检查后续的字符，直到不相等为止\n",
    "            while i < len(S) and S[i] == S[i - 1]:\n",
    "                count += 1\n",
    "                i += 1\n",
    "            # 如果有两个或两个以上连续的相同字符\n",
    "            if count >= 2:\n",
    "                return True\n",
    "    return False\n",
    "\n",
    "# 直接设置字符串进行验证\n",
    "S = \"abccccda\"\n",
    "if repetition_chars(S):\n",
    "    print(f\"{S} 中包含两个或两个以上连续相同字符组成的字符串。\")\n",
    "else:\n",
    "    print(f\"{S} 中不包含两个或两个以上连续相同字符组成的字符串。\")\n"
   ]
  }
 ],
 "metadata": {
  "kernelspec": {
   "display_name": "Python 3",
   "language": "python",
   "name": "python3"
  },
  "language_info": {
   "codemirror_mode": {
    "name": "ipython",
    "version": 3
   },
   "file_extension": ".py",
   "mimetype": "text/x-python",
   "name": "python",
   "nbconvert_exporter": "python",
   "pygments_lexer": "ipython3",
   "version": "3.12.6"
  }
 },
 "nbformat": 4,
 "nbformat_minor": 2
}
