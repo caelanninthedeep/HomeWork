{
 "cells": [
  {
   "cell_type": "code",
   "execution_count": 1,
   "metadata": {},
   "outputs": [
    {
     "name": "stdout",
     "output_type": "stream",
     "text": [
      "[5, 4, 3, 2, 1]\n"
     ]
    }
   ],
   "source": [
    "# for循环\n",
    "L = [1, 2, 3, 4, 5]\n",
    "reversed_list = []\n",
    "\n",
    "# 从最后一个元素开始遍历到第一个元素\n",
    "for i in range(len(L)-1, -1, -1):   #range(start, stop, step) start:（可选）序列的起始值，默认是 0。 第一个stop：生成数列的终点值（不包含在结果中）。\n",
    "    reversed_list.append(L[i])\n",
    "# append 是 Python 列表（list）对象的一个方法，用于将一个元素添加到列表的末尾。它不会返回任何值，而是直接修改原列表。\n",
    "# list.append(item)\n",
    "\n",
    "print(reversed_list)\n"
   ]
  },
  {
   "cell_type": "code",
   "execution_count": 2,
   "metadata": {},
   "outputs": [
    {
     "name": "stdout",
     "output_type": "stream",
     "text": [
      "[5, 4, 3, 2, 1]\n"
     ]
    }
   ],
   "source": [
    "# while循环\n",
    "L = [1, 2, 3, 4, 5]\n",
    "reversed_list = []\n",
    "\n",
    "i = len(L) - 1\n",
    "while i >= 0:\n",
    "    reversed_list.append(L[i])\n",
    "    i -= 1\n",
    "\n",
    "print(reversed_list)\n",
    "\n",
    "# while 条件:\n",
    "    #  循环体\n",
    "# 条件：是一个表达式，当其为 True 时，循环继续执行。当条件为 False 时，循环终止。\n",
    "# 循环体：放在 while 下面的缩进代码，在条件为 True 时不断执行。\n",
    "\n"
   ]
  }
 ],
 "metadata": {
  "kernelspec": {
   "display_name": "Python 3",
   "language": "python",
   "name": "python3"
  },
  "language_info": {
   "codemirror_mode": {
    "name": "ipython",
    "version": 3
   },
   "file_extension": ".py",
   "mimetype": "text/x-python",
   "name": "python",
   "nbconvert_exporter": "python",
   "pygments_lexer": "ipython3",
   "version": "3.12.6"
  }
 },
 "nbformat": 4,
 "nbformat_minor": 2
}
