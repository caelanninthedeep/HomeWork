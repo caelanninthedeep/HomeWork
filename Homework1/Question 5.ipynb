{
 "cells": [
  {
   "cell_type": "code",
   "execution_count": 4,
   "metadata": {},
   "outputs": [
    {
     "name": "stdout",
     "output_type": "stream",
     "text": [
      "1 到 100 的和是: 5050\n"
     ]
    }
   ],
   "source": [
    "sum = 0\n",
    "# 初始化为0\n",
    "\n",
    "for i in range(1, 101):\n",
    "    sum += i \n",
    "# 使用for循环遍历1到100\n",
    "\n",
    "print(\"1 到 100 的和是:\", sum)\n"
   ]
  }
 ],
 "metadata": {
  "kernelspec": {
   "display_name": "Python 3",
   "language": "python",
   "name": "python3"
  },
  "language_info": {
   "codemirror_mode": {
    "name": "ipython",
    "version": 3
   },
   "file_extension": ".py",
   "mimetype": "text/x-python",
   "name": "python",
   "nbconvert_exporter": "python",
   "pygments_lexer": "ipython3",
   "version": "3.12.6"
  }
 },
 "nbformat": 4,
 "nbformat_minor": 2
}
