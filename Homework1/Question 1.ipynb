{
 "cells": [
  {
   "cell_type": "code",
   "execution_count": 3,
   "metadata": {},
   "outputs": [
    {
     "name": "stdout",
     "output_type": "stream",
     "text": [
      "★★★★★★★★★★★\n",
      "★数据科学与工程导论★\n",
      "★★★★★★★★★★★\n"
     ]
    }
   ],
   "source": [
    "sentence = \"数据科学与工程导论\"\n",
    "\n",
    "star = chr(0x2605)\n",
    "\n",
    "border_length = len(sentence) + 2  \n",
    "# len() 是Python中的一个内置函数，用于返回对象的长度。对于字符串对象，它返回字符串的字符数。\n",
    "\n",
    "print(star * border_length)\n",
    "# 字符串重复操作 : 在Python中，可以通过使用 * 运算符，将字符串和数字相乘，来重复该字符串若干次。\n",
    "\n",
    "print(f\"{star}{sentence}{star}\")\n",
    "# 这里使用了Python的 f-string 格式化字符串功能。在Python中，f\"{变量}\" 语法可以将变量的值直接插入到字符串中。\n",
    "# {star} 插入星号，{sentence} 插入句子，最后的 {star} 再次插入一个星号。这样会打印出：★数据科学与工程导论★。\n",
    "\n",
    "print(star * border_length)\n"
   ]
  }
 ],
 "metadata": {
  "kernelspec": {
   "display_name": "Python 3",
   "language": "python",
   "name": "python3"
  },
  "language_info": {
   "codemirror_mode": {
    "name": "ipython",
    "version": 3
   },
   "file_extension": ".py",
   "mimetype": "text/x-python",
   "name": "python",
   "nbconvert_exporter": "python",
   "pygments_lexer": "ipython3",
   "version": "3.12.6"
  }
 },
 "nbformat": 4,
 "nbformat_minor": 2
}
