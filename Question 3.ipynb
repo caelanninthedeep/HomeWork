{
 "cells": [
  {
   "cell_type": "code",
   "execution_count": 1,
   "metadata": {},
   "outputs": [
    {
     "name": "stdout",
     "output_type": "stream",
     "text": [
      "从大到小排序的结果是： [45, 30, 12, 8]\n"
     ]
    }
   ],
   "source": [
    "w = 12\n",
    "x = 45\n",
    "y = 8\n",
    "z = 30\n",
    "\n",
    "numbers = [w, x, y, z]\n",
    "\n",
    "numbers.sort(reverse=True)\n",
    "# . 是访问对象方法或属性的符号，用来调用该对象的特定方法。比如 numbers.sort()，意思是在 numbers 这个列表对象上调用 sort() 方法，进行排序操作。\n",
    "\n",
    "# 打印排序后的结果\n",
    "print(\"从大到小排序的结果是：\", numbers)\n"
   ]
  }
 ],
 "metadata": {
  "kernelspec": {
   "display_name": "Python 3",
   "language": "python",
   "name": "python3"
  },
  "language_info": {
   "codemirror_mode": {
    "name": "ipython",
    "version": 3
   },
   "file_extension": ".py",
   "mimetype": "text/x-python",
   "name": "python",
   "nbconvert_exporter": "python",
   "pygments_lexer": "ipython3",
   "version": "3.12.6"
  }
 },
 "nbformat": 4,
 "nbformat_minor": 2
}
