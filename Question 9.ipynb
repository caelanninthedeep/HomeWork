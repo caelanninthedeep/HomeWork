{
 "cells": [
  {
   "cell_type": "code",
   "execution_count": 4,
   "metadata": {},
   "outputs": [
    {
     "name": "stdout",
     "output_type": "stream",
     "text": [
      "27的三次方根是: 3.0\n"
     ]
    }
   ],
   "source": [
    "def cube_root(c, tolerance=1e-6, max_iterations=1000):\n",
    "    if c == 0:\n",
    "        return 0\n",
    "\n",
    "    # 初始猜测值\n",
    "    x = c\n",
    "    iterations = 0\n",
    "\n",
    "    while iterations < max_iterations:\n",
    "        # 根据牛顿迭代法更新 x 的值\n",
    "        next_x = (2 * x + c / (x ** 2)) / 3\n",
    "        \n",
    "        # 判断是否收敛\n",
    "        if abs(next_x - x) < tolerance:\n",
    "            return next_x\n",
    "        \n",
    "        x = next_x\n",
    "        iterations += 1\n",
    "\n",
    "    # 若在给定的最大迭代次数内未收敛，返回近似值\n",
    "    return x\n",
    "\n",
    "# 测试\n",
    "c = 27  # 例如，求27的三次方根\n",
    "result = cube_root(c)\n",
    "print(f\"{c}的三次方根是: {result}\")\n"
   ]
  },
  {
   "cell_type": "markdown",
   "metadata": {},
   "source": [
    "为了设计一个用于求解三次方根的算法，可以使用牛顿迭代法。设定我们要求的三次方根为 \\( c \\)，目标是求解 \\( x^3 = c \\)，即 \\( f(x) = x^3 - c \\)。在牛顿迭代法中，我们会逐步逼近方程的解。\n",
    "\n",
    "### 数学公式：\n",
    "牛顿迭代法的更新公式为：\n",
    "\n",
    "$$\n",
    "x_{n+1} = x_n - \\frac{f(x_n)}{f^{\\prime}(x_n)}\n",
    "$$\n",
    "\n",
    "对于 \\( f(x) = x^3 - c \\)，它的一阶导数 \\( f^{\\prime}(x) \\) 是：\n",
    "\n",
    "$$\n",
    "f^{\\prime}(x) = 3x^2\n",
    "$$\n",
    "\n",
    "因此牛顿迭代法的迭代公式可以写为：\n",
    "\n",
    "$$\n",
    "x_{n+1} = x_n - \\frac{x_n^3 - c}{3x_n^2}\n",
    "$$\n",
    "\n",
    "这个公式可以简化为：\n",
    "\n",
    "$$\n",
    "x_{n+1} = \\frac{2x_n + \\frac{c}{x_n^2}}{3}\n",
    "$$\n",
    "\n",
    "### 终止条件：\n",
    "迭代过程在 \\( |x_{n+1} - x_n| \\) 小于某个很小的值（如 \\( 10^{-6} \\））时停止，表示收敛。\n"
   ]
  }
 ],
 "metadata": {
  "kernelspec": {
   "display_name": "Python 3",
   "language": "python",
   "name": "python3"
  },
  "language_info": {
   "codemirror_mode": {
    "name": "ipython",
    "version": 3
   },
   "file_extension": ".py",
   "mimetype": "text/x-python",
   "name": "python",
   "nbconvert_exporter": "python",
   "pygments_lexer": "ipython3",
   "version": "3.12.6"
  }
 },
 "nbformat": 4,
 "nbformat_minor": 2
}
